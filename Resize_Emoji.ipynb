{
 "cells": [
  {
   "cell_type": "code",
   "execution_count": 1,
   "metadata": {},
   "outputs": [],
   "source": [
    "import cv2\n",
    "import numpy as np\n",
    "# Load functions\n",
    "def face_detector(img):\n",
    "    roi = cv2.resize(img, (150, 150))\n",
    "    return roi"
   ]
  },
  {
   "cell_type": "code",
   "execution_count": 5,
   "metadata": {},
   "outputs": [
    {
     "name": "stdout",
     "output_type": "stream",
     "text": [
      "Resizing Complete\n"
     ]
    }
   ],
   "source": [
    "frame = cv2.imread('n.png')\n",
    "face = face_detector(frame)\n",
    "# Save file in specified directory with unique name\n",
    "file_name_path = 'C://Users//sdeo7//OneDrive//Desktop//Folders//Project_MachineLearning//neutral' + '.png'\n",
    "cv2.imwrite(file_name_path, face)\n",
    "print(\"Resizing Complete\")"
   ]
  },
  {
   "cell_type": "code",
   "execution_count": null,
   "metadata": {},
   "outputs": [],
   "source": []
  }
 ],
 "metadata": {
  "kernelspec": {
   "display_name": "Python 3",
   "language": "python",
   "name": "python3"
  },
  "language_info": {
   "codemirror_mode": {
    "name": "ipython",
    "version": 3
   },
   "file_extension": ".py",
   "mimetype": "text/x-python",
   "name": "python",
   "nbconvert_exporter": "python",
   "pygments_lexer": "ipython3",
   "version": "3.7.7"
  }
 },
 "nbformat": 4,
 "nbformat_minor": 4
}
